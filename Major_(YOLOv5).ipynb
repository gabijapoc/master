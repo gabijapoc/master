{
  "cells": [
    {
      "cell_type": "markdown",
      "source": [
        "YOLOv5 model setup and training"
      ],
      "metadata": {
        "id": "qonwaNfw3LVx"
      }
    },
    {
      "cell_type": "code",
      "source": [
        "import torch\n",
        "import yaml"
      ],
      "metadata": {
        "id": "JZvMuRz5ZHNT"
      },
      "execution_count": 1,
      "outputs": []
    },
    {
      "cell_type": "code",
      "execution_count": null,
      "metadata": {
        "id": "Ie5uLDH4uzAp",
        "vscode": {
          "languageId": "python"
        }
      },
      "outputs": [],
      "source": [
        "# clone YOLOv5 repo\n",
        "!git clone https://github.com/ultralytics/yolov5\n",
        "%cd yolov5\n",
        "!git reset --hard 064365d8683fd002e9ad789c1e91fa3d021b44f0"
      ]
    },
    {
      "cell_type": "code",
      "execution_count": null,
      "metadata": {
        "id": "wbvMlHd_QwMG",
        "vscode": {
          "languageId": "python"
        }
      },
      "outputs": [],
      "source": [
        "# install dependencies as necessary\n",
        "!pip install -qr requirements.txt  # install dependencies (ignore errors)\n",
        "\n",
        "from IPython.display import Image, clear_output  # to display images\n",
        "from utils.downloads import attempt_download  # to download models/datasets\n",
        "\n",
        "# clear_output()\n",
        "print('Setup complete. Using torch %s %s' % (torch.__version__, torch.cuda.get_device_properties(0) if torch.cuda.is_available() else 'CPU'))"
      ]
    },
    {
      "cell_type": "code",
      "execution_count": null,
      "metadata": {
        "id": "Knxi2ncxWffW",
        "vscode": {
          "languageId": "python"
        }
      },
      "outputs": [],
      "source": [
        "#download dataset\n",
        "!pip install roboflow\n",
        "\n",
        "from roboflow import Roboflow\n",
        "rf = Roboflow(api_key=\"FpynYnn5BBNyvMzeEaoA\")\n",
        "project = rf.workspace(\"gabijapocevicemajor-7dvfl\").project(\"tattoo-localization-and-recognition\")\n",
        "version = project.version(40)\n",
        "dataset = version.download(\"yolov5\")"
      ]
    },
    {
      "cell_type": "code",
      "execution_count": null,
      "metadata": {
        "id": "Ug_PhK1oqwQA",
        "vscode": {
          "languageId": "python"
        }
      },
      "outputs": [],
      "source": [
        "%cd /content/yolov5"
      ]
    },
    {
      "cell_type": "code",
      "execution_count": null,
      "metadata": {
        "id": "ZZ3DmmGQztJj",
        "vscode": {
          "languageId": "python"
        }
      },
      "outputs": [],
      "source": [
        "%cat {dataset.location}/data.yaml"
      ]
    },
    {
      "cell_type": "code",
      "execution_count": 7,
      "metadata": {
        "id": "dOPn9wjOAwwK",
        "vscode": {
          "languageId": "python"
        }
      },
      "outputs": [],
      "source": [
        "# Define Model Configuration and Architecture\n",
        "# define number of classes based on YAML\n",
        "with open(dataset.location + \"/data.yaml\", 'r') as stream:\n",
        "    num_classes = str(yaml.safe_load(stream)['nc'])"
      ]
    },
    {
      "cell_type": "code",
      "execution_count": null,
      "metadata": {
        "id": "1Rvt5wilnDyX",
        "vscode": {
          "languageId": "python"
        }
      },
      "outputs": [],
      "source": [
        "#model configuration\n",
        "%cat /content/yolov5/models/yolov5l.yaml"
      ]
    },
    {
      "cell_type": "code",
      "execution_count": 9,
      "metadata": {
        "id": "t14hhyqdmw6O",
        "vscode": {
          "languageId": "python"
        }
      },
      "outputs": [],
      "source": [
        "#customize iPython writefile so I can write variables\n",
        "from IPython.core.magic import register_line_cell_magic\n",
        "\n",
        "@register_line_cell_magic\n",
        "def writetemplate(line, cell):\n",
        "    with open(line, 'w') as f:\n",
        "        f.write(cell.format(**globals()))"
      ]
    },
    {
      "cell_type": "code",
      "execution_count": 10,
      "metadata": {
        "id": "uDxebz13RdRA",
        "vscode": {
          "languageId": "python"
        }
      },
      "outputs": [],
      "source": [
        "%%writetemplate /content/yolov5/models/custom_yolov5l.yaml\n",
        "\n",
        "# parameters\n",
        "nc: {num_classes}  # number of classes\n",
        "depth_multiple: 0.33  # model depth multiple\n",
        "width_multiple: 0.50  # layer channel multiple\n",
        "\n",
        "# anchors\n",
        "anchors:\n",
        "  - [10,13, 16,30, 33,23]  # P3/8\n",
        "  - [30,61, 62,45, 59,119]  # P4/16\n",
        "  - [116,90, 156,198, 373,326]  # P5/32\n",
        "\n",
        "# YOLOv5 backbone\n",
        "backbone:\n",
        "  # [from, number, module, args]\n",
        "  [[-1, 1, Focus, [64, 3]],  # 0-P1/2\n",
        "   [-1, 1, Conv, [128, 3, 2]],  # 1-P2/4\n",
        "   [-1, 3, BottleneckCSP, [128]],\n",
        "   [-1, 1, Conv, [256, 3, 2]],  # 3-P3/8\n",
        "   [-1, 9, BottleneckCSP, [256]],\n",
        "   [-1, 1, Conv, [512, 3, 2]],  # 5-P4/16\n",
        "   [-1, 9, BottleneckCSP, [512]],\n",
        "   [-1, 1, Conv, [1024, 3, 2]],  # 7-P5/32\n",
        "   [-1, 1, SPP, [1024, [5, 9, 13]]],\n",
        "   [-1, 3, BottleneckCSP, [1024, False]],  # 9\n",
        "  ]\n",
        "\n",
        "# YOLOv5 head\n",
        "head:\n",
        "  [[-1, 1, Conv, [512, 1, 1]],\n",
        "   [-1, 1, nn.Upsample, [None, 2, 'nearest']],\n",
        "   [[-1, 6], 1, Concat, [1]],  # cat backbone P4\n",
        "   [-1, 3, BottleneckCSP, [512, False]],  # 13\n",
        "\n",
        "   [-1, 1, Conv, [256, 1, 1]],\n",
        "   [-1, 1, nn.Upsample, [None, 2, 'nearest']],\n",
        "   [[-1, 4], 1, Concat, [1]],  # cat backbone P3\n",
        "   [-1, 3, BottleneckCSP, [256, False]],  # 17 (P3/8-small)\n",
        "\n",
        "   [-1, 1, Conv, [256, 3, 2]],\n",
        "   [[-1, 14], 1, Concat, [1]],  # cat head P4\n",
        "   [-1, 3, BottleneckCSP, [512, False]],  # 20 (P4/16-medium)\n",
        "\n",
        "   [-1, 1, Conv, [512, 3, 2]],\n",
        "   [[-1, 10], 1, Concat, [1]],  # cat head P5\n",
        "   [-1, 3, BottleneckCSP, [1024, False]],  # 23 (P5/32-large)\n",
        "\n",
        "   [[17, 20, 23], 1, Detect, [nc, anchors]],  # Detect(P3, P4, P5)\n",
        "  ]"
      ]
    },
    {
      "cell_type": "code",
      "source": [
        "# according to research carried out manually change learning rate at 0.001, momentum at 0.95, the weight decay at 0.0001"
      ],
      "metadata": {
        "id": "HKrdsBdgL2VA"
      },
      "execution_count": null,
      "outputs": []
    },
    {
      "cell_type": "code",
      "execution_count": null,
      "metadata": {
        "id": "1NcFxRcFdJ_O",
        "vscode": {
          "languageId": "python"
        }
      },
      "outputs": [],
      "source": [
        "# train yolov5l on tattoo dataset for 300 epochs\n",
        "%%time\n",
        "%cd /content/yolov5/\n",
        "!python train.py --img 640 --batch 64 --epochs 300 --data {dataset.location}/data.yaml --cfg ./models/custom_yolov5l.yaml --weights '' --name yolov5l_results  --cache"
      ]
    },
    {
      "cell_type": "markdown",
      "source": [
        "Model deployment (to Roboflow)"
      ],
      "metadata": {
        "id": "ntuhDHER3XKX"
      }
    },
    {
      "cell_type": "code",
      "source": [
        "project.version(dataset.version).deploy(model_type=\"yolov5\", model_path=f\"/content/yolov5/runs/train/yolov5l_results/\")"
      ],
      "metadata": {
        "id": "1Ap0z6NopoOz"
      },
      "execution_count": null,
      "outputs": []
    },
    {
      "cell_type": "markdown",
      "source": [
        "Local picture upload. Bounding box image and cropped image"
      ],
      "metadata": {
        "id": "aVGsbyAz3ZK0"
      }
    },
    {
      "cell_type": "code",
      "source": [
        "!pip install roboflow"
      ],
      "metadata": {
        "id": "SA1u9Qbkrp7D"
      },
      "execution_count": null,
      "outputs": []
    },
    {
      "cell_type": "code",
      "source": [
        "from roboflow import Roboflow\n",
        "from PIL import Image, ImageDraw\n",
        "\n",
        "# Initialize Roboflow API with your API key\n",
        "rf = Roboflow(api_key=\"FpynYnn5BBNyvMzeEaoA\")\n",
        "\n",
        "# Replace \"MODEL_ENDPOINT\" with your actual model endpoint\n",
        "project = rf.workspace().project(\"tattoo-localization-and-recognition\")\n",
        "\n",
        "# Replace VERSION with the version of your model\n",
        "model_version = 40\n",
        "model = project.version(model_version).model\n",
        "\n",
        "# Replace \"your_image.jpg\" with the path to your local image\n",
        "image_path = \"/content/1.jpg\"\n",
        "\n",
        "# Infer on a local image\n",
        "response = model.predict(image_path, confidence=50, overlap=50).json()\n",
        "predictions = response['predictions']\n",
        "\n",
        "# Load the original image using PIL\n",
        "image = Image.open(image_path)\n",
        "\n",
        "# Specify absolute paths for saving images\n",
        "output_directory = \"/content/\"  # Change this to your desired output directory\n",
        "\n",
        "for bounding_box in predictions:\n",
        "    x = bounding_box['x']\n",
        "    y = bounding_box['y']\n",
        "    width = bounding_box['width']\n",
        "    height = bounding_box['height']\n",
        "\n",
        "    # Calculate corner points\n",
        "    x1 = x - width / 2\n",
        "    x2 = x + width / 2\n",
        "    y1 = y - height / 2\n",
        "    y2 = y + height / 2\n",
        "\n",
        "    print(\"Bounding Box Coordinates:\")\n",
        "    print(f\"x1: {x1}, y1: {y1}, x2: {x2}, y2: {y2}\")\n",
        "\n",
        "    # Draw bounding box on the image\n",
        "    draw = ImageDraw.Draw(image)\n",
        "    draw.rectangle([x1, y1, x2, y2], outline=\"red\", width=3)\n",
        "\n",
        "    # Crop the bounding box from the original image\n",
        "    cropped_image = image.crop((x1, y1, x2, y2))\n",
        "\n",
        "    # Save the cropped image as \"cropped.jpg\"\n",
        "    cropped_image.save(output_directory + \"cropped.jpg\")\n",
        "\n",
        "# Save the image with bounding box\n",
        "image.save(output_directory + \"prediction.jpg\")"
      ],
      "metadata": {
        "id": "zH3gwOWXd3OJ"
      },
      "execution_count": null,
      "outputs": []
    },
    {
      "cell_type": "markdown",
      "source": [
        "Similartity"
      ],
      "metadata": {
        "id": "9RgADSjX3gok"
      }
    },
    {
      "cell_type": "code",
      "source": [
        "pip install pymysql"
      ],
      "metadata": {
        "id": "b39QlMpVN3n_"
      },
      "execution_count": null,
      "outputs": []
    },
    {
      "cell_type": "code",
      "source": [
        "from tensorflow.keras.models import Model"
      ],
      "metadata": {
        "id": "aXqfEMHkWd37"
      },
      "execution_count": null,
      "outputs": []
    },
    {
      "cell_type": "code",
      "source": [
        "import numpy as np\n",
        "import requests\n",
        "from PIL import Image\n",
        "from tensorflow.keras.applications import ResNet50\n",
        "from tensorflow.keras.applications.resnet50 import preprocess_input\n",
        "from sklearn.metrics.pairwise import cosine_similarity\n",
        "from io import BytesIO\n",
        "import pymysql\n",
        "from tensorflow.keras.models import Model\n",
        "\n",
        "# Load pre-trained ResNet50 model\n",
        "base_model = ResNet50(weights='imagenet', include_top=False)\n",
        "model = Model(inputs=base_model.input, outputs=base_model.layers[-1].output)\n",
        "\n",
        "# Establish a connection to the MySQL database using public IP\n",
        "db = pymysql.connect(\n",
        "    host=\"34.171.119.255\",\n",
        "    user=\"root\",\n",
        "    passwd=\"J44U'QfH}_q*rz>7\",  # Enter your password\n",
        "    db=\"Identification\"\n",
        ")\n",
        "\n",
        "def download_image(url):\n",
        "    response = requests.get(url)\n",
        "    img = Image.open(BytesIO(response.content)).resize((224, 224))\n",
        "    return img\n",
        "\n",
        "def extract_features(image):\n",
        "    img_array = np.expand_dims(np.array(image), axis=0)\n",
        "    img_array = preprocess_input(img_array)  # Preprocess the image for ResNet50\n",
        "    features = model.predict(img_array)\n",
        "    return features.flatten()\n",
        "\n",
        "# Load your cropped image using PIL\n",
        "cropped_image_path = \"/content/cropped.jpg\"\n",
        "cropped_image = Image.open(cropped_image_path).resize((224, 224))  # Resize the image\n",
        "\n",
        "# Extract features from the cropped image\n",
        "cropped_features = extract_features(cropped_image)\n",
        "\n",
        "# Retrieve personal numbers and image URLs from the database\n",
        "cursor = db.cursor()\n",
        "cursor.execute(\"SELECT personal_number, image_url FROM image_table\")\n",
        "personal_info = cursor.fetchall()\n",
        "\n",
        "# Convert PIL images to numpy arrays and extract features\n",
        "database_features = []\n",
        "for personal_number, db_url in personal_info:\n",
        "    db_image = download_image(db_url).resize((224, 224))  # Resize the image\n",
        "    db_features = extract_features(db_image)\n",
        "    database_features.append((personal_number, db_features))\n",
        "\n",
        "# Compare cropped image features with database features using Cosine similarity\n",
        "similarity_threshold = 0.45  # Can be adjusted as needed based on experimentation\n",
        "\n",
        "best_match_index = -1\n",
        "best_similarity = 0\n",
        "\n",
        "for i, (personal_number, db_features) in enumerate(database_features):\n",
        "    similarity = cosine_similarity([cropped_features], [db_features])[0][0]\n",
        "    if similarity > similarity_threshold and similarity > best_similarity:\n",
        "        best_match_index = i\n",
        "        best_similarity = similarity\n",
        "\n",
        "if best_match_index != -1:\n",
        "    matched_personal_number = database_features[best_match_index][0]\n",
        "    cursor.execute(\"SELECT * FROM personal_info_table WHERE personal_number = %s\", matched_personal_number)\n",
        "    person_data = cursor.fetchone()\n",
        "    print(f\"Match found! Cropped image is most similar to person with personal number: {matched_personal_number}\")\n",
        "    print(f\"Similarity score: {best_similarity}\")\n",
        "    print(f\"Person data: {person_data}\")\n",
        "else:\n",
        "    print(\"No similar image found.\")\n",
        "\n",
        "# Close the database connection\n",
        "db.close()"
      ],
      "metadata": {
        "id": "uYYsg3Cg3dfQ"
      },
      "execution_count": null,
      "outputs": []
    }
  ],
  "metadata": {
    "colab": {
      "provenance": [],
      "gpuType": "T4"
    },
    "kernelspec": {
      "display_name": "Python 3",
      "name": "python3"
    },
    "accelerator": "GPU"
  },
  "nbformat": 4,
  "nbformat_minor": 0
}